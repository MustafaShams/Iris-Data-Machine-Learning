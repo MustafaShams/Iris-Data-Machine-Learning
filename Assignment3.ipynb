{
 "cells": [
  {
   "cell_type": "markdown",
   "metadata": {},
   "source": [
    "#Assignment 3\n"
   ]
  },
  {
   "cell_type": "code",
   "execution_count": 37,
   "metadata": {},
   "outputs": [],
   "source": [
    "import numpy as np\n",
    "import pandas as pd\n",
    "import matplotlib.pyplot as plt\n",
    "import seaborn as sb\n",
    "import random as rand\n",
    "import statistics\n",
    "from sklearn.model_selection import train_test_split\n",
    "\n",
    "\n",
    "data_names = ['sepal_length', 'sepal_width', 'petal_length', 'petal_width', 'label']\n",
    "data_names_clusters = ['sepal_length', 'sepal_width', 'petal_length', 'petal_width', 'label', 'cluster']\n",
    "data = pd.read_csv('iris.data', \n",
    "                   names = data_names)\n",
    "\n",
    "all_vals = data[['sepal_length', 'sepal_width', 'petal_length', 'petal_width']].values"
   ]
  },
  {
   "cell_type": "markdown",
   "metadata": {},
   "source": [
    "## Question 1: Implementing and testing K-means clustering [100%]\n",
    "### Question 1a: Implementing K-Means clustering [50%]\n",
    "In this question you should implement a function that performs k-means clustering, using the Euclidean distance (you may use Numpy libraries for the distance computation). For calculation of the centroid you should use the 'mean' function.\n",
    "\n",
    "For uniformity, you should implement a function with the following specifications:\n",
    "```python\n",
    "def kmeans_clustering(all_vals,K,max_iter = 100, tol = pow(10,-3) ):\n",
    "```\n",
    "where 1) 'all_vals' is the $N \\times M$ matrix that contains all data points ($N$ is the number of data points and $M$ is the number of features, each row of the matrix is a data point), 2) 'K' is the number of clusters, 3) 'max_iter' is the maxium number of iterations, and 4) 'tol' is the tolerance for the change of the sum of squares of errors that determines convergence.\n",
    "\n",
    "Your function should return the following variables: 1) 'assignments': this is a $N\\times 1$ vector (where $N$ is the number of data points) where the $i$-th position of that vector contains the cluster number that the $i$-th data point is assigned to, 2) 'centroids': this is a $K\\times M$ matrix, each row of which contains the centroid for every cluster, 3) 'all_sse': this is a vector that contains all the sum of squares of errors per iteration of the algorithm, and 4) 'iters': this is the number of iterations that the algorithm ran.\n",
    "\n",
    "Here we are going to implement the simplest version of K-means, where the initial centroids are chosen entirely at random among all the data points.\n",
    "\n",
    "As we saw in class, the K-means algorithm iterates over the following steps:\n",
    "- Given a set of centroids, assign all data points to the cluster represented by its nearest centroid (according to Euclidean distance)\n",
    "- Given a set of assignments of points to clusters, compute the new centroids for every cluster, by taking the mean of all the points assigned to each cluster.\n",
    "\n",
    "Your algorithm should converge if 1) the maximum number of iterations is reached, or 2) if the SSE between two consecutive iterations does not change a lot (as in the gradient descent for linear regression we saw in Assignment 2). In order to check for the latter condition, you may use the following piece of code:\n",
    "```python\n",
    "if np.absolute(all_sse[it] - all_sse[it-1])/all_sse[it-1] <= tol\n",
    "```\n",
    "\n",
    "In order to calculate the SSE (sum of squares of error) first you need to define what an 'error' is. In k-means, error per data point refers to the Euclidean distance of that particular point from its assigned centroid. SSE sums up all those squared Euclidean distances for all data points and comes up with a number that reflects the total error of approximating every data points by its assigned centroid.\n",
    "\n",
    "\n"
   ]
  },
  {
   "cell_type": "code",
   "execution_count": 38,
   "metadata": {},
   "outputs": [],
   "source": [
    "#k-means clustering\n",
    "\n",
    "#initializing random cluster centroids \n",
    "def initialize_k(all_vals, K):\n",
    "    k_means = [None]*K\n",
    "    indexes = rand.sample(range(0, 149), K)\n",
    "    for i in range(0, K):\n",
    "        k_means[i] = all_vals[indexes[i]]\n",
    "    return k_means\n",
    "\n",
    "def updated_k(all_vals, cluster_assignment, K):\n",
    "    updated_centers = [None]*K\n",
    "    for i in range(0,K): \n",
    "        cluster_vals = []\n",
    "        for j in range(0, 149):\n",
    "            if cluster_assignment[j] == i:\n",
    "                cluster_vals.append(all_vals[j])\n",
    "        updated_centers[i] = np.mean(cluster_vals, axis = 0)\n",
    "    return updated_centers\n",
    "    \n",
    "def kmeans_clustering(all_vals,K,max_iter, tol ):\n",
    "    centers = initialize_k(all_vals, K)\n",
    "    all_sse = [0]*max_iter\n",
    "    for a in range(0, max_iter):\n",
    "        cluster_assignment = [None]*150\n",
    "        for i in range(0, 150): \n",
    "            distances = [None]*K\n",
    "            for j in range(0, K):\n",
    "                distances[j] = np.linalg.norm(all_vals[i][0:4] - centers[j][0:4], 2)\n",
    "            cluster_assignment[i] = distances.index(min(distances))\n",
    "            all_sse[a] += min(distances)\n",
    "        centers = updated_k(all_vals, cluster_assignment, K)\n",
    "        if a > 0 and np.absolute(all_sse[a] - all_sse[a-1])/all_sse[a-1] <= tol or a == max_iter-1:\n",
    "            return cluster_assignment, centers, all_sse[a], a\n",
    "        \n",
    "cluster_assignments, centroids, sse, iters = kmeans_clustering(all_vals,10,max_iter = 100, tol = pow(10,-3))\n",
    "\n",
    "#print(cluster_assignments)\n",
    "\n",
    "#Works Cited: https://stackoverflow.com/questions/22842289/generate-n-unique-random-numbers-within-a-range\n",
    "#https://www.kite.com/python/answers/how-to-find-the-index-of-the-minimum-value-of-a-list-in-python\n",
    "#https://www.geeksforgeeks.org/numpy-mean-in-python/#:~:text=mean(arr%2C%20axis%20%3D%20None,to%20calculate%20the%20arithmetic%20mean."
   ]
  },
  {
   "cell_type": "markdown",
   "metadata": {},
   "source": [
    "### Question 1b: Visualizing K-means [10%]\n",
    "In this question we wll visualize the result of the K-means algorithm. For ease of visualization, we will focus on a scatterplot of two of the four features of the Iris dataset. In particular: run your K-means code with K=3 and default values for the rest of the inputs. Subsequently, make a single scatterplot that contains all data points of the dataset for features 'sepal_length' and 'petal_length' and color every data point according to its cluster assignment."
   ]
  },
  {
   "cell_type": "code",
   "execution_count": 3,
   "metadata": {},
   "outputs": [
    {
     "data": {
      "image/png": "[encoded data removed]",
      "text/plain": [
       "<Figure size 432x288 with 1 Axes>"
      ]
     },
     "metadata": {
      "needs_background": "light"
     },
     "output_type": "display_data"
    }
   ],
   "source": [
    "def scatter_plot_assignments(cluster_assignment, centroids):\n",
    "    data[\"cluster\"] = cluster_assignments\n",
    "    cluster0 = pd.DataFrame(columns = data_names_clusters)\n",
    "    cluster1 = pd.DataFrame(columns = data_names_clusters)\n",
    "    cluster2 = pd.DataFrame(columns = data_names_clusters)\n",
    "\n",
    "    for x in data.index:\n",
    "        if (data.at[x,'cluster'] == 0):\n",
    "            cluster0 = cluster0.append({'sepal_length' : data.at[x,'sepal_length'], 'sepal_width' : data.at[x,'sepal_width'], 'petal_length' : data.at[x,'petal_length'], 'petal_width' : data.at[x,'petal_width']}, ignore_index=True)\n",
    "        if (data.at[x,'cluster'] == 1):\n",
    "            cluster1 = cluster1.append({'sepal_length' : data.at[x,'sepal_length'], 'sepal_width' : data.at[x,'sepal_width'], 'petal_length' : data.at[x,'petal_length'], 'petal_width' : data.at[x,'petal_width']}, ignore_index=True)\n",
    "        if (data.at[x,'cluster'] == 2):\n",
    "            cluster2 = cluster2.append({'sepal_length' : data.at[x,'sepal_length'], 'sepal_width' : data.at[x,'sepal_width'], 'petal_length' : data.at[x,'petal_length'], 'petal_width' : data.at[x,'petal_width']}, ignore_index=True)\n",
    "\n",
    "    fig, features = plt.subplots() \n",
    "    features.set_xlabel(\"sepal length\")\n",
    "    features.set_ylabel(\"petal length\")\n",
    "\n",
    "    features.scatter(cluster0.sepal_length, cluster0.petal_length, c='red')\n",
    "    features.scatter(cluster1.sepal_length, cluster1.petal_length, c='green')\n",
    "    features.scatter(cluster2.sepal_length, cluster2.petal_length, c='blue')\n",
    "    for i in range(0,3):\n",
    "        features.scatter(centroids[i][0], centroids[i][2], c='cyan')\n",
    "\n",
    "cluster_assignments, centroids, sse, iters = kmeans_clustering(all_vals,3,max_iter = 100, tol = pow(10,-3))\n",
    "scatter_plot_assignments(cluster_assignments, centroids)\n"
   ]
  },
  {
   "cell_type": "markdown",
   "metadata": {},
   "source": [
    "### Question 1c: Testing K-means [40%]\n",
    "Selecting the right number of clusters $K$ is a very challenging problem, especially when we don't have some side-information or domain expertise that can help us narrow down a few reasonable values for that parameter. \n",
    "\n",
    "In the absence of any other information, a very useful exercise is to create the plot of SSE (sum of squares of errors) as a function of $K$. Ideally, for a very small $K$, the error will be high (since we are trying to approximate a whole lot of points with a very small number of centroids) and as $K$ increases, the error decreases. However, after a certain value (or a couple of values) for $K$, we will notice diminishing returns, i.e., the error will be decreasing, but not to a great degree. Typically, the value(s) for $K$ where this behavior is observed (the threshold point after which we observe diminishing returns) is usually a good guess for the number of clusters. \n",
    "\n",
    "In this question, we will have to create the SSE vs. K plot for $K = 1\\cdots10$. Furthermore, because K-means uses randomized initialization, we need to do a number of iterations per value of $K$ in order to get a good estimate of the actual SSE (which may not be caused by randomness in the initialization). For this question, you will have to run the entire K-means algorithm to completion, and repeat it 50 different times per $K$, and collect all SSEs. In the figure, you should report the mean SSE per $K$, surrounded by error-bars which will encode the standard deviation."
   ]
  },
  {
   "cell_type": "code",
   "execution_count": 39,
   "metadata": {},
   "outputs": [
    {
     "data": {
      "text/plain": [
       "Text(0, 0.5, 'SSE')"
      ]
     },
     "execution_count": 39,
     "metadata": {},
     "output_type": "execute_result"
    },
    {
     "data": {
      "image/png": "[encoded data removed]",
      "text/plain": [
       "<Figure size 432x288 with 1 Axes>"
      ]
     },
     "metadata": {
      "needs_background": "light"
     },
     "output_type": "display_data"
    }
   ],
   "source": [
    "sse = [None]*11\n",
    "for j in range (0,10):\n",
    "    avg_sse = [None]*10\n",
    "    for i in range(0,10):\n",
    "        cluster_assignments, centroids, avg_sse[i], iters = kmeans_clustering(all_vals, j+1, 100, pow(10,-3))\n",
    "    sse[j+1] = statistics.mean(avg_sse)    \n",
    "\n",
    "fig,Scat1 = plt.subplots()\n",
    "Scat1.plot(sse)\n",
    "plt.xlabel(\"K\")\n",
    "plt.ylabel(\"SSE\")"
   ]
  },
  {
   "cell_type": "code",
   "execution_count": null,
   "metadata": {},
   "outputs": [],
   "source": []
  },
  {
   "cell_type": "code",
   "execution_count": null,
   "metadata": {},
   "outputs": [],
   "source": []
  }
 ],
 "metadata": {
  "kernelspec": {
   "display_name": "Python 3 (ipykernel)",
   "language": "python",
   "name": "python3"
  },
  "language_info": {
   "codemirror_mode": {
    "name": "ipython",
    "version": 3
   },
   "file_extension": ".py",
   "mimetype": "text/x-python",
   "name": "python",
   "nbconvert_exporter": "python",
   "pygments_lexer": "ipython3",
   "version": "3.8.12"
  }
 },
 "nbformat": 4,
 "nbformat_minor": 4
}
